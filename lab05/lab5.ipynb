{
 "cells": [
  {
   "cell_type": "markdown",
   "metadata": {},
   "source": [
    "# Quantum Informatics\n",
    "## Lab 5"
   ]
  },
  {
   "cell_type": "markdown",
   "metadata": {},
   "source": [
    "### Task 1 - Deutsch–Jozsa problem\n",
    "\n",
    "#### Quantum circuit\n",
    "[IBM Quanum Composer](https://quantum.ibm.com/composer/files/new?initial=N4IgdghgtgpiBcIAyEBGACALOgtOgKhAM4DW6AjLugCIwCuALkQMYAWgyAQBSA9gF5ER0ABwBO3VABsYUEABoQAR2IzEAeQAKAUQByARQCCAZQCy6AEwA6AAwBuADpgAlmGYS6AExjo7imBMeo5BbOzD72YA4KIjAA5uiOANrkALrhUbHo3EmpDg7M0XHRRNnhDgAemaVgqBAiIo4wIvGylegA9G3oAAJCrMQw1I6kuWCs8eFj3FU1dQ1Nji1TIx3oAELEjszoAGZ0LgyO3GDwDisAqtoAwqrGxjr46ADi%2BviahuiqAGJPAJIAajp0J8Lpd8D9VNpvBEwCttlZ4OhmEciAwIGAGDs9swDkdTp1tgAKKwASnQAF50FYWoTyKSKVZlp1tNx0DEIAwYER0NEFHRHNF3IyduQEWAjjgkWAUWiMbt9odobCiXTKdSCbTyRQhcwKgtKkLtmZReLJdL0Zj5biYfjlZryGqNfShRUltbEbrFlVYQBmBGm1HmuXYhV4na2in2sOOrWKzou6a1eqNZr66FjRwTVMOWDEOjReK4AB83M54RmSfmnvanR6fSIAyGJAcchAnhY9SEOLACBAIAAvkA)\n",
    "\n",
    "- $f_0$ - constant function\n",
    "\n",
    "   $f_0(0) = 0, f_0(1) = 0$\n",
    "\n",
    "   ![Quantum circuit](./img/task1/deutsch-f0.svg)\n",
    "- $f_1$ - non-constant function\n",
    "\n",
    "   $f_1(0) = 0, f_1(1) = 1$\n",
    "\n",
    "   ![Quantum circuit](./img/task1/deutsch-f1.svg)\n",
    "- $f_2$ - non-constant function\n",
    "\n",
    "   $f_2(0) = 1, f_2(1) = 0$\n",
    "\n",
    "   ![Quantum circuit](./img/task1/deutsch-f2.svg)\n",
    "- $f_3$ - constant function\n",
    "\n",
    "   $f_3(1) = 1, f_3(1) = 0$\n",
    "\n",
    "   ![Quantum circuit](./img/task1/deutsch-f3.svg)"
   ]
  },
  {
   "cell_type": "markdown",
   "metadata": {},
   "source": [
    "#### OpenQASM\n",
    "\n",
    "```quasmOPENQASM 2.0;\n",
    "include \"qelib1.inc\";\n",
    "\n",
    "qreg i[1];\n",
    "qreg o[1];\n",
    "\n",
    "creg res[1];\n",
    "\n",
    "x o;\n",
    "\n",
    "barrier i, o; // @phaseDisk\n",
    "\n",
    "h i;\n",
    "h o;\n",
    "\n",
    "barrier i, o;\n",
    "\n",
    "// Basic function:\n",
    "// UNCOMMENT GATES OF GIVEN FUNCTION \n",
    "\n",
    "// f0: constant function\n",
    "// f(0) = 0, f(1) = 0\n",
    "\n",
    "// No gates required\n",
    "\n",
    "// f1: non-constant function\n",
    "// f(0) = 0, f(1) = 1\n",
    "\n",
    "// cx i, o;\n",
    "\n",
    "// f2: non-constant function\n",
    "// f(0) = 1, f(1) = 0\n",
    "\n",
    "// x o;\n",
    "// cx i, o;\n",
    "\n",
    "// f3: constant function\n",
    "// f(0) = 1, f(1) = 1\n",
    "\n",
    "// x o;\n",
    "\n",
    "barrier i, o;\n",
    "\n",
    "h i;\n",
    "h o;\n",
    "\n",
    "measure i -> res;\n",
    "barrier i, o; // @phaseDisk\n",
    "```"
   ]
  },
  {
   "cell_type": "markdown",
   "metadata": {},
   "source": [
    "### Task 2 - Bernstein–Vazirani problem\n",
    "\n",
    "#### Classical solution - $O(log_2(n))$"
   ]
  },
  {
   "cell_type": "code",
   "execution_count": 2,
   "metadata": {},
   "outputs": [],
   "source": [
    "from typing import Callable\n",
    "\n",
    "def berstein_function(a: int, x: int) -> int:\n",
    "    \"\"\"\n",
    "    Returns:\n",
    "        int: Result of Bernstein function calculation: 0 or 1.\n",
    "    \"\"\"\n",
    "    result = 0\n",
    "    while a > 0 and x > 0:\n",
    "        result += (a % 2) * (x % 2)\n",
    "\n",
    "        a //= 2\n",
    "        x //= 2\n",
    "    \n",
    "    return result\n",
    "\n",
    "def construct_berstein_function(a: int) -> Callable[[int], int]:\n",
    "    return lambda x: berstein_function(a, x)"
   ]
  },
  {
   "cell_type": "code",
   "execution_count": 3,
   "metadata": {},
   "outputs": [],
   "source": [
    "def solve_bernstein(bernstein_function: Callable[[int], int], number_of_bits: int) -> int:\n",
    "    \"\"\"\n",
    "    Args:\n",
    "        bernstein_function ((int) -> int): Bernstein function with unknown `a` parameter.\n",
    "        number_of_bits (int): Max number of bits of `a` parameter.\n",
    "\n",
    "    Returns:\n",
    "        int: Parameter `a` of unknown `bernstein_function`.\n",
    "    \"\"\"\n",
    "\n",
    "    result = 0\n",
    "    mask = 1\n",
    "\n",
    "    for _ in range(number_of_bits):\n",
    "        if bernstein_function(mask) == 1:\n",
    "            result += mask\n",
    "\n",
    "        mask *= 2\n",
    "\n",
    "    return result"
   ]
  },
  {
   "cell_type": "code",
   "execution_count": 9,
   "metadata": {},
   "outputs": [
    {
     "name": "stdout",
     "output_type": "stream",
     "text": [
      "Expected: 19; Calculated: 19\n",
      "Expected: 7; Calculated: 7\n"
     ]
    }
   ],
   "source": [
    "for a in [19, 7]:\n",
    "    bernstein_function = construct_berstein_function(a)\n",
    "    result = solve_bernstein(bernstein_function, number_of_bits=5)\n",
    "\n",
    "    print(f\"Expected: {a}; Calculated: {result}\")"
   ]
  },
  {
   "cell_type": "markdown",
   "metadata": {},
   "source": [
    "#### Quantum solution - $O(1)$\n",
    "\n",
    "##### Quantum circuit\n",
    "[IBM Quanum Composer](https://quantum.ibm.com/composer/files/new?initial=N4IgdghgtgpiBcIAyEBGACALOgtOgKhAM4DW6ATLugEIwBOYRALjAJZg4BqEAXq3RDCt0ABzoB7VABsYUEABoQAR2JzEAeQAKAUQByARQCCAZQCyFAHQAGANwAdIWADGUgK4ATGOjvKYU1qgAjBbsTj72YA5KdDAA5ugAHgD6ANoArAC6EdFx6ACeqYFZDg4J%2BUkRDqgQdHSs9IlJ8uU26AD0begAAiIAFsQwACKspCVgvY0REwWVYNW19XSNzTNjHegQ6AC86IEAnNu76ADUFCe7AGxjTmXJKVYZKxUON40pRU8R66935I8tDm%2Bt1SAGZ-qtnMCUphwc9InManUGslPmMJskpgD4fMkUsUS12p0ev0iEMRiQHAoQJ4iE46iImKxxGAECAQABfIA)\n",
    "\n",
    "- $a = 19$\n",
    "\n",
    "   ![Quantum circuit](./img/task2/bernstein-a-19.svg)\n",
    "- $a = 7$\n",
    "\n",
    "   ![Quantum circuit](./img/task2/bernstein-a-7.svg)"
   ]
  },
  {
   "cell_type": "markdown",
   "metadata": {},
   "source": [
    "##### OpenQUASM\n",
    "\n",
    "```quasm\n",
    "OPENQASM 2.0;\n",
    "include \"qelib1.inc\";\n",
    "\n",
    "qreg x_[5];\n",
    "qreg y_[1];\n",
    "\n",
    "x y_;\n",
    "\n",
    "barrier x_, y_; // @phaseDisk\n",
    "\n",
    "h x_;\n",
    "h y_;\n",
    "\n",
    "barrier x_, y_;\n",
    "\n",
    "// a = 19 = 1 + 2 + 16\n",
    "\n",
    "cx x_[0], y_;\n",
    "cx x_[1], y_;\n",
    "// cx x_[2], y_;\n",
    "// cx x_[3], y_;\n",
    "cx x_[4], y_;\n",
    "\n",
    "barrier x_, y_;\n",
    "\n",
    "h x_;\n",
    "h y_;\n",
    "\n",
    "barrier x_, y_; // @phaseDisk\n",
    "```"
   ]
  }
 ],
 "metadata": {
  "kernelspec": {
   "display_name": "quantum",
   "language": "python",
   "name": "python3"
  },
  "language_info": {
   "codemirror_mode": {
    "name": "ipython",
    "version": 3
   },
   "file_extension": ".py",
   "mimetype": "text/x-python",
   "name": "python",
   "nbconvert_exporter": "python",
   "pygments_lexer": "ipython3",
   "version": "3.13.0"
  }
 },
 "nbformat": 4,
 "nbformat_minor": 2
}
